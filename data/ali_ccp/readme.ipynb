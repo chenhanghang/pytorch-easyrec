{
 "cells": [
  {
   "cell_type": "markdown",
   "id": "8b52bf1c-b02c-410e-9b72-db3661136de2",
   "metadata": {},
   "source": [
    "## 数据集介绍\n",
    "该数据集采集自手机淘宝移动客户端的推荐系统日志，一共有23个sparse特征，8个dense特征，包含“点击”、“购买”两个标签。\n",
    "\n",
    "数据集该类目包含25W个用户、50W条商品的信息，共计8000W条数据。\n",
    "\n",
    "注意事项\n",
    "- 原始数据已划分训练集和测试集，预处理过程将原始数据的测试集随机划分一半作为验证集，预处理后的训练集、验证集、测试集比例为2:1:1。\n",
    "- 预处理完的数据集的sparse特征已经Lable Encode，dense特征采用归一化处理。数据预处理方脚本:preprocess_ali_ccp.py。\n",
    "- 原始数据地址：https://tianchi.aliyun.com/dataset/dataDetail?dataId=408"
   ]
  },
  {
   "cell_type": "code",
   "execution_count": null,
   "id": "9975c01d-7a40-4b69-a3b4-8f6460923293",
   "metadata": {},
   "outputs": [],
   "source": []
  }
 ],
 "metadata": {
  "kernelspec": {
   "display_name": "Python 3 (ipykernel)",
   "language": "python",
   "name": "python3"
  },
  "language_info": {
   "codemirror_mode": {
    "name": "ipython",
    "version": 3
   },
   "file_extension": ".py",
   "mimetype": "text/x-python",
   "name": "python",
   "nbconvert_exporter": "python",
   "pygments_lexer": "ipython3",
   "version": "3.9.16"
  }
 },
 "nbformat": 4,
 "nbformat_minor": 5
}
